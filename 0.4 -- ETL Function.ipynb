{
 "cells": [
  {
   "cell_type": "markdown",
   "id": "33afda6c",
   "metadata": {},
   "source": [
    "# ETL Pipeline Function\n",
    "\n",
    "Now that we've performed some basic EDA on our demographics, products, and transactions, we should lock these pre-processing steps in place using transformation functions which serve as a data pipeline -- similar to an 'Extract, Transform, Load' step. \n",
    "\n",
    "This notebook was added retro-actively, and serves to show how my understanding of data infrastructure has evolved. I would imagine that data munging, transformations and pipelines are some of the more tedious and daunting tasks that a data professional might have to perform -- and I know there is still much to learn.\n",
    "\n",
    "**As I continue to improve this process, this notebook may have functions from the 'future'...**"
   ]
  },
  {
   "cell_type": "code",
   "execution_count": 19,
   "id": "e121c807",
   "metadata": {},
   "outputs": [],
   "source": [
    "import my_funcs as mf\n",
    "# import os\n",
    "\n",
    "def ETL(new_directory='data/outputs'):\n",
    "    ''' call all ETL functions and populate the /outputs directory in the main folder'''\n",
    "    os.makedirs(new_directory)\n",
    "\n",
    "    df = mf.load_demo()\n",
    "    df.to_csv(f'{new_directory}/demo.csv')\n",
    "    \n",
    "    merged = mf.load_merged()\n",
    "    merged.to_csv(f'{new_directory}/merged.csv')\n",
    "    \n",
    "    df = mf.load_hh_agg(merged)\n",
    "    df.to_csv(f'{new_directory}/hh_agg.csv')\n",
    "    \n",
    "    df = mf.load_campaign_summary(merged)\n",
    "    df.to_csv(f'{new_directory}/campaign_summary.csv')\n",
    "\n",
    "    return None\n"
   ]
  },
  {
   "cell_type": "markdown",
   "id": "e2312d15",
   "metadata": {},
   "source": [
    "## Business Summary/tl;dr:\n",
    "\n",
    "**I'm ready to learn more about data infrastructure!** \n",
    "\n",
    "With a basic grasp of how to implement my own Python package (and thereby, other API's), as well as my recent work on the functioning of the Python `class` structure, I'm ready to read some code (and hopefully hold someone's hand, while I do)."
   ]
  },
  {
   "cell_type": "markdown",
   "id": "8fadab47",
   "metadata": {},
   "source": [
    "Now that we've performed some basic EDA on our demographics, products, and transactions, we should lock these pre-processing steps in place using transformation functions which serve as a data pipeline -- similar to an 'Extract, Transform, Load' step. \n",
    "\n",
    "This notebook was added retro-actively, and serves to show how my understanding of data infrastructure has evolved. I would imagine that data munging, transformations and pipelines are some of the more tedious and daunting tasks that a data professional might have to perform -- and I know there is still much to learn.\n",
    "\n",
    "**As I continue to improve this process, this notebook may have functions from the 'future'...**"
   ]
  },
  {
   "cell_type": "code",
   "execution_count": null,
   "id": "ae0ebb9e",
   "metadata": {},
   "outputs": [],
   "source": [
    "# ETL()\n",
    "\n",
    "# function = 'load_demo'\n",
    "# df = eval(f'mf.{function}()')\n",
    "# df\n",
    "\n",
    "    # first level\n",
    "#     for function in ['load_demo','load_campaign_summary', 'load_merged']:\n",
    "#         df = eval(f'mf.{function}()')\n",
    "#         df.to_csv(f'TESToutputs/{function[5:]}.csv')\n"
   ]
  }
 ],
 "metadata": {
  "kernelspec": {
   "display_name": "Python 3 (ipykernel)",
   "language": "python",
   "name": "python3"
  },
  "language_info": {
   "codemirror_mode": {
    "name": "ipython",
    "version": 3
   },
   "file_extension": ".py",
   "mimetype": "text/x-python",
   "name": "python",
   "nbconvert_exporter": "python",
   "pygments_lexer": "ipython3",
   "version": "3.9.7"
  },
  "toc": {
   "base_numbering": 1,
   "nav_menu": {},
   "number_sections": true,
   "sideBar": true,
   "skip_h1_title": false,
   "title_cell": "Table of Contents",
   "title_sidebar": "Contents",
   "toc_cell": false,
   "toc_position": {},
   "toc_section_display": true,
   "toc_window_display": false
  },
  "varInspector": {
   "cols": {
    "lenName": 16,
    "lenType": 16,
    "lenVar": 40
   },
   "kernels_config": {
    "python": {
     "delete_cmd_postfix": "",
     "delete_cmd_prefix": "del ",
     "library": "var_list.py",
     "varRefreshCmd": "print(var_dic_list())"
    },
    "r": {
     "delete_cmd_postfix": ") ",
     "delete_cmd_prefix": "rm(",
     "library": "var_list.r",
     "varRefreshCmd": "cat(var_dic_list()) "
    }
   },
   "types_to_exclude": [
    "module",
    "function",
    "builtin_function_or_method",
    "instance",
    "_Feature"
   ],
   "window_display": false
  }
 },
 "nbformat": 4,
 "nbformat_minor": 5
}
